{
 "cells": [
  {
   "cell_type": "code",
   "execution_count": 34,
   "metadata": {
    "scrolled": true
   },
   "outputs": [],
   "source": [
    "import requests\n",
    "from bs4 import BeautifulSoup\n",
    "import re"
   ]
  },
  {
   "cell_type": "code",
   "execution_count": 40,
   "metadata": {},
   "outputs": [],
   "source": [
    "alpha = requests.get('https://www.finder.com/car-manufacturers-united-states')"
   ]
  },
  {
   "cell_type": "code",
   "execution_count": 41,
   "metadata": {},
   "outputs": [],
   "source": [
    "soup = BeautifulSoup(alpha.text, 'html.parser')"
   ]
  },
  {
   "cell_type": "code",
   "execution_count": 66,
   "metadata": {},
   "outputs": [],
   "source": [
    "sub_soup = soup.find_all('a', 'scroll')"
   ]
  },
  {
   "cell_type": "code",
   "execution_count": 67,
   "metadata": {},
   "outputs": [
    {
     "data": {
      "text/plain": [
       "[<a class=\"scroll\" href=\"#pb-acura\">Acura</a>,\n",
       " <a class=\"scroll\" href=\"#pb-alfa\">Alfa Romeo</a>,\n",
       " <a class=\"scroll\" href=\"#pb-aston\">Aston Martin</a>,\n",
       " <a class=\"scroll\" href=\"#pb-audi\">Audi</a>,\n",
       " <a class=\"scroll\" href=\"#pb-bentley\">Bentley</a>,\n",
       " <a class=\"scroll\" href=\"#pb-bmw\">BMW</a>,\n",
       " <a class=\"scroll\" href=\"#pb-bugatti\">Bugatti</a>,\n",
       " <a class=\"scroll\" href=\"#pb-buick\">Buick</a>,\n",
       " <a class=\"scroll\" href=\"#pb-cadillac\">Cadillac</a>,\n",
       " <a class=\"scroll\" href=\"#pb-caterham\">Caterham</a>,\n",
       " <a class=\"scroll\" href=\"#pb-chevrolet\">Chevrolet</a>,\n",
       " <a class=\"scroll\" href=\"#pb-chrysler\">Chrysler</a>,\n",
       " <a class=\"scroll\" href=\"#pb-dodge\">Dodge</a>,\n",
       " <a class=\"scroll\" href=\"#pb-ferrari\">Ferrari</a>,\n",
       " <a class=\"scroll\" href=\"#pb-fiat\">Fiat</a>,\n",
       " <a class=\"scroll\" href=\"#pb-ford\">Ford</a>,\n",
       " <a class=\"scroll\" href=\"#pb-gmc\">GMC</a>,\n",
       " <a class=\"scroll\" href=\"#pb-honda\">Honda</a>,\n",
       " <a class=\"scroll\" href=\"#pb-hyundai\">Hyundai</a>,\n",
       " <a class=\"scroll\" href=\"#pb-infiniti\">Infiniti</a>,\n",
       " <a class=\"scroll\" href=\"#pb-jaguar\">Jaguar</a>,\n",
       " <a class=\"scroll\" href=\"#pb-isuzu\">Jeep</a>,\n",
       " <a class=\"scroll\" href=\"#pb-kia\">Kia</a>,\n",
       " <a class=\"scroll\" href=\"#pb-lamborghini\">Lamborghini</a>,\n",
       " <a class=\"scroll\" href=\"#pb-land-rover\">Land Rover</a>,\n",
       " <a class=\"scroll\" href=\"#pb-lexus\">Lexus</a>,\n",
       " <a class=\"scroll\" href=\"#pb-lincoln\">Lincoln</a>,\n",
       " <a class=\"scroll\" href=\"#pb-lotus\">Lotus</a>,\n",
       " <a class=\"scroll\" href=\"#pb-maserati\">Maserati</a>,\n",
       " <a class=\"scroll\" href=\"#pb-mazda\">Mazda</a>,\n",
       " <a class=\"scroll\" href=\"#pb-mercedes\">Mercedes Benz</a>,\n",
       " <a class=\"scroll\" href=\"#pb-mini\">Mini</a>,\n",
       " <a class=\"scroll\" href=\"#pb-mitsubishi\">Mitsubishi</a>,\n",
       " <a class=\"scroll\" href=\"#pb-nissan\">Nissan</a>,\n",
       " <a class=\"scroll\" href=\"#pb-porsche\">Porsche</a>,\n",
       " <a class=\"scroll\" href=\"#pb-ram\">Ram Trucks</a>,\n",
       " <a class=\"scroll\" href=\"#pb-rolls\">Rolls Royce</a>,\n",
       " <a class=\"scroll\" href=\"#pb-smart\">Smart</a>,\n",
       " <a class=\"scroll\" href=\"#pb-subaru\">Subaru</a>,\n",
       " <a class=\"scroll\" href=\"#pb-toyota\">Toyota</a>,\n",
       " <a class=\"scroll\" href=\"#pb-tesla\">Tesla</a>,\n",
       " <a class=\"scroll\" href=\"#pb-vw\">Volkswagen</a>,\n",
       " <a class=\"scroll\" href=\"#pb-volvo\">Volvo</a>]"
      ]
     },
     "execution_count": 67,
     "metadata": {},
     "output_type": "execute_result"
    }
   ],
   "source": [
    "sub_soup"
   ]
  },
  {
   "cell_type": "code",
   "execution_count": 39,
   "metadata": {},
   "outputs": [],
   "source": [
    "manufacturers = re.findall('(?<=/wiki/).*?\"', beta)"
   ]
  },
  {
   "cell_type": "code",
   "execution_count": null,
   "metadata": {},
   "outputs": [],
   "source": []
  }
 ],
 "metadata": {
  "kernelspec": {
   "display_name": "Python 3 (ipykernel)",
   "language": "python",
   "name": "python3"
  },
  "language_info": {
   "codemirror_mode": {
    "name": "ipython",
    "version": 3
   },
   "file_extension": ".py",
   "mimetype": "text/x-python",
   "name": "python",
   "nbconvert_exporter": "python",
   "pygments_lexer": "ipython3",
   "version": "3.9.7"
  }
 },
 "nbformat": 4,
 "nbformat_minor": 1
}