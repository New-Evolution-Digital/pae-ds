{
 "cells": [
  {
   "cell_type": "code",
   "execution_count": 6,
   "metadata": {},
   "outputs": [],
   "source": [
    "from data_tools.generate_testing_dataset import df"
   ]
  },
  {
   "cell_type": "code",
   "execution_count": 7,
   "metadata": {},
   "outputs": [
    {
     "data": {
      "text/html": [
       "<div>\n",
       "<style scoped>\n",
       "    .dataframe tbody tr th:only-of-type {\n",
       "        vertical-align: middle;\n",
       "    }\n",
       "\n",
       "    .dataframe tbody tr th {\n",
       "        vertical-align: top;\n",
       "    }\n",
       "\n",
       "    .dataframe thead th {\n",
       "        text-align: right;\n",
       "    }\n",
       "</style>\n",
       "<table border=\"1\" class=\"dataframe\">\n",
       "  <thead>\n",
       "    <tr style=\"text-align: right;\">\n",
       "      <th></th>\n",
       "      <th>id</th>\n",
       "      <th>price</th>\n",
       "      <th>year</th>\n",
       "      <th>region</th>\n",
       "      <th>manufacturer</th>\n",
       "      <th>model</th>\n",
       "      <th>condition</th>\n",
       "      <th>cylinders</th>\n",
       "      <th>fuel</th>\n",
       "      <th>odometer</th>\n",
       "      <th>transmission</th>\n",
       "      <th>VIN</th>\n",
       "      <th>drive</th>\n",
       "      <th>type</th>\n",
       "      <th>paint_color</th>\n",
       "      <th>image_url</th>\n",
       "      <th>title_status</th>\n",
       "      <th>lat</th>\n",
       "      <th>long</th>\n",
       "    </tr>\n",
       "  </thead>\n",
       "  <tbody>\n",
       "    <tr>\n",
       "      <th>0</th>\n",
       "      <td>1404801288</td>\n",
       "      <td>21073.986263</td>\n",
       "      <td>2015</td>\n",
       "      <td>Agate (historical)</td>\n",
       "      <td>mitsubishi</td>\n",
       "      <td>NaN</td>\n",
       "      <td>new</td>\n",
       "      <td>8 cylinders</td>\n",
       "      <td>gas</td>\n",
       "      <td>46651.763227</td>\n",
       "      <td>automatic</td>\n",
       "      <td>054hnfood98e63qjnjy2</td>\n",
       "      <td>front wheel drive</td>\n",
       "      <td>suv</td>\n",
       "      <td>cobalt</td>\n",
       "      <td>NaN</td>\n",
       "      <td>clean</td>\n",
       "      <td>42.505339</td>\n",
       "      <td>42.315217</td>\n",
       "    </tr>\n",
       "    <tr>\n",
       "      <th>1</th>\n",
       "      <td>1889081416</td>\n",
       "      <td>14528.555139</td>\n",
       "      <td>2005</td>\n",
       "      <td>Hidaway Meadows</td>\n",
       "      <td>bmw</td>\n",
       "      <td>NaN</td>\n",
       "      <td>parts</td>\n",
       "      <td>6 cylinders</td>\n",
       "      <td>electric</td>\n",
       "      <td>30234.801437</td>\n",
       "      <td>automatic</td>\n",
       "      <td>mm9qrz8y6cmheznzuc46</td>\n",
       "      <td>front wheel drive</td>\n",
       "      <td>sedan</td>\n",
       "      <td>purple</td>\n",
       "      <td>NaN</td>\n",
       "      <td>salvage</td>\n",
       "      <td>43.454891</td>\n",
       "      <td>47.405315</td>\n",
       "    </tr>\n",
       "    <tr>\n",
       "      <th>2</th>\n",
       "      <td>1546624400</td>\n",
       "      <td>13436.872476</td>\n",
       "      <td>2017</td>\n",
       "      <td>Gordey Creek</td>\n",
       "      <td>toyota</td>\n",
       "      <td>NaN</td>\n",
       "      <td>fair</td>\n",
       "      <td>4 cylinders</td>\n",
       "      <td>gas</td>\n",
       "      <td>818.774312</td>\n",
       "      <td>manual</td>\n",
       "      <td>h5f6j45mnl8c1pen3s62</td>\n",
       "      <td>rear wheel drive</td>\n",
       "      <td>pickup</td>\n",
       "      <td>purple</td>\n",
       "      <td>NaN</td>\n",
       "      <td>clean</td>\n",
       "      <td>43.485253</td>\n",
       "      <td>45.118518</td>\n",
       "    </tr>\n",
       "    <tr>\n",
       "      <th>3</th>\n",
       "      <td>1030324677</td>\n",
       "      <td>21865.342527</td>\n",
       "      <td>2017</td>\n",
       "      <td>Creamery Creek</td>\n",
       "      <td>audi</td>\n",
       "      <td>NaN</td>\n",
       "      <td>poor</td>\n",
       "      <td>6 cylinders</td>\n",
       "      <td>electric</td>\n",
       "      <td>24873.208323</td>\n",
       "      <td>manual</td>\n",
       "      <td>wzf6fgj1l2gt41p7lzrv</td>\n",
       "      <td>rear wheel drive</td>\n",
       "      <td>pickup</td>\n",
       "      <td>orange</td>\n",
       "      <td>NaN</td>\n",
       "      <td>clean</td>\n",
       "      <td>44.336349</td>\n",
       "      <td>42.547881</td>\n",
       "    </tr>\n",
       "    <tr>\n",
       "      <th>4</th>\n",
       "      <td>1860683693</td>\n",
       "      <td>15220.041728</td>\n",
       "      <td>2015</td>\n",
       "      <td>Winter Ridge</td>\n",
       "      <td>ford</td>\n",
       "      <td>NaN</td>\n",
       "      <td>fair</td>\n",
       "      <td>8 cylinders</td>\n",
       "      <td>diesel</td>\n",
       "      <td>5355.366889</td>\n",
       "      <td>automatic</td>\n",
       "      <td>e0qm3dwe62on0c0j9s8f</td>\n",
       "      <td>rear wheel drive</td>\n",
       "      <td>suv</td>\n",
       "      <td>green</td>\n",
       "      <td>NaN</td>\n",
       "      <td>None</td>\n",
       "      <td>45.065845</td>\n",
       "      <td>42.543919</td>\n",
       "    </tr>\n",
       "  </tbody>\n",
       "</table>\n",
       "</div>"
      ],
      "text/plain": [
       "           id         price  year              region manufacturer model  \\\n",
       "0  1404801288  21073.986263  2015  Agate (historical)   mitsubishi   NaN   \n",
       "1  1889081416  14528.555139  2005     Hidaway Meadows          bmw   NaN   \n",
       "2  1546624400  13436.872476  2017        Gordey Creek       toyota   NaN   \n",
       "3  1030324677  21865.342527  2017      Creamery Creek         audi   NaN   \n",
       "4  1860683693  15220.041728  2015        Winter Ridge         ford   NaN   \n",
       "\n",
       "  condition    cylinders      fuel      odometer transmission  \\\n",
       "0       new  8 cylinders       gas  46651.763227    automatic   \n",
       "1     parts  6 cylinders  electric  30234.801437    automatic   \n",
       "2      fair  4 cylinders       gas    818.774312       manual   \n",
       "3      poor  6 cylinders  electric  24873.208323       manual   \n",
       "4      fair  8 cylinders    diesel   5355.366889    automatic   \n",
       "\n",
       "                    VIN              drive    type paint_color image_url  \\\n",
       "0  054hnfood98e63qjnjy2  front wheel drive     suv      cobalt       NaN   \n",
       "1  mm9qrz8y6cmheznzuc46  front wheel drive   sedan      purple       NaN   \n",
       "2  h5f6j45mnl8c1pen3s62   rear wheel drive  pickup      purple       NaN   \n",
       "3  wzf6fgj1l2gt41p7lzrv   rear wheel drive  pickup      orange       NaN   \n",
       "4  e0qm3dwe62on0c0j9s8f   rear wheel drive     suv       green       NaN   \n",
       "\n",
       "  title_status        lat       long  \n",
       "0        clean  42.505339  42.315217  \n",
       "1      salvage  43.454891  47.405315  \n",
       "2        clean  43.485253  45.118518  \n",
       "3        clean  44.336349  42.547881  \n",
       "4         None  45.065845  42.543919  "
      ]
     },
     "execution_count": 7,
     "metadata": {},
     "output_type": "execute_result"
    }
   ],
   "source": [
    "df.head()"
   ]
  },
  {
   "cell_type": "code",
   "execution_count": 8,
   "metadata": {},
   "outputs": [
    {
     "data": {
      "text/plain": [
       "fair     222\n",
       "parts    201\n",
       "new      198\n",
       "poor     198\n",
       "good     181\n",
       "Name: condition, dtype: int64"
      ]
     },
     "execution_count": 8,
     "metadata": {},
     "output_type": "execute_result"
    }
   ],
   "source": [
    "df['condition'].value_counts()"
   ]
  },
  {
   "cell_type": "code",
   "execution_count": 9,
   "metadata": {},
   "outputs": [
    {
     "data": {
      "text/plain": [
       "rear wheel drive     363\n",
       "four wheel drive     332\n",
       "front wheel drive    305\n",
       "Name: drive, dtype: int64"
      ]
     },
     "execution_count": 9,
     "metadata": {},
     "output_type": "execute_result"
    }
   ],
   "source": [
    "df['drive'].value_counts()"
   ]
  },
  {
   "cell_type": "code",
   "execution_count": 10,
   "metadata": {},
   "outputs": [],
   "source": [
    "from app_here.utilities.map_info.json_map_data import topojson"
   ]
  },
  {
   "cell_type": "code",
   "execution_count": null,
   "metadata": {},
   "outputs": [],
   "source": []
  }
 ],
 "metadata": {
  "kernelspec": {
   "display_name": "Python 3 (ipykernel)",
   "language": "python",
   "name": "python3"
  },
  "language_info": {
   "codemirror_mode": {
    "name": "ipython",
    "version": 3
   },
   "file_extension": ".py",
   "mimetype": "text/x-python",
   "name": "python",
   "nbconvert_exporter": "python",
   "pygments_lexer": "ipython3",
   "version": "3.9.7"
  }
 },
 "nbformat": 4,
 "nbformat_minor": 1
}